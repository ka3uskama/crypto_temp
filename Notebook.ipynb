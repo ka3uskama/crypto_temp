{
 "cells": [
  {
   "cell_type": "code",
   "execution_count": 1,
   "metadata": {},
   "outputs": [],
   "source": [
    "import pandas as pd"
   ]
  },
  {
   "cell_type": "code",
   "execution_count": 160,
   "metadata": {},
   "outputs": [
    {
     "name": "stderr",
     "output_type": "stream",
     "text": [
      "C:\\Users\\kamil\\anaconda3\\lib\\site-packages\\IPython\\core\\interactiveshell.py:3331: FutureWarning: In a future version of pandas all arguments of read_csv except for the argument 'filepath_or_buffer' will be keyword-only\n",
      "  exec(code_obj, self.user_global_ns, self.user_ns)\n"
     ]
    }
   ],
   "source": [
    "df = pd.read_csv('test_logs.csv', ';')"
   ]
  },
  {
   "cell_type": "code",
   "execution_count": 164,
   "metadata": {},
   "outputs": [
    {
     "data": {
      "text/html": [
       "<div>\n",
       "<style scoped>\n",
       "    .dataframe tbody tr th:only-of-type {\n",
       "        vertical-align: middle;\n",
       "    }\n",
       "\n",
       "    .dataframe tbody tr th {\n",
       "        vertical-align: top;\n",
       "    }\n",
       "\n",
       "    .dataframe thead th {\n",
       "        text-align: right;\n",
       "    }\n",
       "</style>\n",
       "<table border=\"1\" class=\"dataframe\">\n",
       "  <thead>\n",
       "    <tr style=\"text-align: right;\">\n",
       "      <th></th>\n",
       "      <th>currentTime</th>\n",
       "      <th>action</th>\n",
       "      <th>orderId</th>\n",
       "      <th>orderProduct</th>\n",
       "      <th>orderSide</th>\n",
       "      <th>tradePx</th>\n",
       "      <th>tradeAmt</th>\n",
       "    </tr>\n",
       "  </thead>\n",
       "  <tbody>\n",
       "    <tr>\n",
       "      <th>0</th>\n",
       "      <td>1,69992E+18</td>\n",
       "      <td>sent</td>\n",
       "      <td>1</td>\n",
       "      <td>AA</td>\n",
       "      <td>buy</td>\n",
       "      <td>NaN</td>\n",
       "      <td>NaN</td>\n",
       "    </tr>\n",
       "    <tr>\n",
       "      <th>1</th>\n",
       "      <td>1,69992E+18</td>\n",
       "      <td>placed</td>\n",
       "      <td>1</td>\n",
       "      <td>AA</td>\n",
       "      <td>buy</td>\n",
       "      <td>NaN</td>\n",
       "      <td>NaN</td>\n",
       "    </tr>\n",
       "    <tr>\n",
       "      <th>2</th>\n",
       "      <td>1,69992E+18</td>\n",
       "      <td>filled</td>\n",
       "      <td>1</td>\n",
       "      <td>AA</td>\n",
       "      <td>buy</td>\n",
       "      <td>139200.0</td>\n",
       "      <td>1.0</td>\n",
       "    </tr>\n",
       "    <tr>\n",
       "      <th>3</th>\n",
       "      <td>1,69992E+18</td>\n",
       "      <td>sent</td>\n",
       "      <td>2</td>\n",
       "      <td>BB</td>\n",
       "      <td>buy</td>\n",
       "      <td>NaN</td>\n",
       "      <td>NaN</td>\n",
       "    </tr>\n",
       "    <tr>\n",
       "      <th>4</th>\n",
       "      <td>1,69992E+18</td>\n",
       "      <td>placed</td>\n",
       "      <td>2</td>\n",
       "      <td>BB</td>\n",
       "      <td>buy</td>\n",
       "      <td>NaN</td>\n",
       "      <td>NaN</td>\n",
       "    </tr>\n",
       "    <tr>\n",
       "      <th>...</th>\n",
       "      <td>...</td>\n",
       "      <td>...</td>\n",
       "      <td>...</td>\n",
       "      <td>...</td>\n",
       "      <td>...</td>\n",
       "      <td>...</td>\n",
       "      <td>...</td>\n",
       "    </tr>\n",
       "    <tr>\n",
       "      <th>429</th>\n",
       "      <td>1,69992E+18</td>\n",
       "      <td>placed</td>\n",
       "      <td>128</td>\n",
       "      <td>BB</td>\n",
       "      <td>sell</td>\n",
       "      <td>NaN</td>\n",
       "      <td>NaN</td>\n",
       "    </tr>\n",
       "    <tr>\n",
       "      <th>430</th>\n",
       "      <td>1,69992E+18</td>\n",
       "      <td>filled</td>\n",
       "      <td>128</td>\n",
       "      <td>BB</td>\n",
       "      <td>sell</td>\n",
       "      <td>15500.0</td>\n",
       "      <td>1.0</td>\n",
       "    </tr>\n",
       "    <tr>\n",
       "      <th>431</th>\n",
       "      <td>1,69992E+18</td>\n",
       "      <td>sent</td>\n",
       "      <td>129</td>\n",
       "      <td>AA</td>\n",
       "      <td>sell</td>\n",
       "      <td>NaN</td>\n",
       "      <td>NaN</td>\n",
       "    </tr>\n",
       "    <tr>\n",
       "      <th>432</th>\n",
       "      <td>1,69992E+18</td>\n",
       "      <td>placed</td>\n",
       "      <td>129</td>\n",
       "      <td>AA</td>\n",
       "      <td>sell</td>\n",
       "      <td>NaN</td>\n",
       "      <td>NaN</td>\n",
       "    </tr>\n",
       "    <tr>\n",
       "      <th>433</th>\n",
       "      <td>1,69992E+18</td>\n",
       "      <td>filled</td>\n",
       "      <td>129</td>\n",
       "      <td>AA</td>\n",
       "      <td>sell</td>\n",
       "      <td>139700.0</td>\n",
       "      <td>1.0</td>\n",
       "    </tr>\n",
       "  </tbody>\n",
       "</table>\n",
       "<p>434 rows × 7 columns</p>\n",
       "</div>"
      ],
      "text/plain": [
       "     currentTime  action  orderId orderProduct orderSide   tradePx  tradeAmt\n",
       "0    1,69992E+18    sent        1           AA       buy       NaN       NaN\n",
       "1    1,69992E+18  placed        1           AA       buy       NaN       NaN\n",
       "2    1,69992E+18  filled        1           AA       buy  139200.0       1.0\n",
       "3    1,69992E+18    sent        2           BB       buy       NaN       NaN\n",
       "4    1,69992E+18  placed        2           BB       buy       NaN       NaN\n",
       "..           ...     ...      ...          ...       ...       ...       ...\n",
       "429  1,69992E+18  placed      128           BB      sell       NaN       NaN\n",
       "430  1,69992E+18  filled      128           BB      sell   15500.0       1.0\n",
       "431  1,69992E+18    sent      129           AA      sell       NaN       NaN\n",
       "432  1,69992E+18  placed      129           AA      sell       NaN       NaN\n",
       "433  1,69992E+18  filled      129           AA      sell  139700.0       1.0\n",
       "\n",
       "[434 rows x 7 columns]"
      ]
     },
     "execution_count": 164,
     "metadata": {},
     "output_type": "execute_result"
    }
   ],
   "source": [
    "df"
   ]
  },
  {
   "cell_type": "markdown",
   "metadata": {},
   "source": [
    "### Total gross PnL"
   ]
  },
  {
   "cell_type": "code",
   "execution_count": 165,
   "metadata": {},
   "outputs": [
    {
     "data": {
      "text/plain": [
       "orderSide\n",
       "buy     20302400.0\n",
       "sell    20309450.0\n",
       "Name: tradePx, dtype: float64"
      ]
     },
     "execution_count": 165,
     "metadata": {},
     "output_type": "execute_result"
    }
   ],
   "source": [
    "df[df['action'] == 'filled'].groupby('orderSide').sum()['tradePx']"
   ]
  },
  {
   "cell_type": "code",
   "execution_count": 166,
   "metadata": {},
   "outputs": [],
   "source": [
    "temp = df[df['action'] == 'filled'].groupby('orderSide').sum()['tradePx']"
   ]
  },
  {
   "cell_type": "code",
   "execution_count": 167,
   "metadata": {},
   "outputs": [
    {
     "data": {
      "text/plain": [
       "7050.0"
      ]
     },
     "execution_count": 167,
     "metadata": {},
     "output_type": "execute_result"
    }
   ],
   "source": [
    "temp['sell'] - temp['buy'] #P&L "
   ]
  },
  {
   "cell_type": "markdown",
   "metadata": {},
   "source": [
    "### Total gross PnL over each security ID"
   ]
  },
  {
   "cell_type": "code",
   "execution_count": 168,
   "metadata": {},
   "outputs": [
    {
     "data": {
      "text/plain": [
       "orderProduct  orderSide\n",
       "AA            buy           2087100.0\n",
       "              sell          2090500.0\n",
       "BB            buy            207500.0\n",
       "              sell           211200.0\n",
       "CC            buy          18007800.0\n",
       "              sell         18007750.0\n",
       "Name: tradePx, dtype: float64"
      ]
     },
     "execution_count": 168,
     "metadata": {},
     "output_type": "execute_result"
    }
   ],
   "source": [
    "df[df['action'] == 'filled'].groupby(['orderProduct', 'orderSide']).sum()['tradePx']"
   ]
  },
  {
   "cell_type": "code",
   "execution_count": 169,
   "metadata": {},
   "outputs": [],
   "source": [
    "temp1 = df.copy()"
   ]
  },
  {
   "cell_type": "code",
   "execution_count": 170,
   "metadata": {},
   "outputs": [],
   "source": [
    "def absolute(row):\n",
    "    if row['orderSide'] == 'buy':\n",
    "        return row['tradePx'] * -1\n",
    "    return row['tradePx'] "
   ]
  },
  {
   "cell_type": "code",
   "execution_count": 171,
   "metadata": {},
   "outputs": [],
   "source": [
    "temp1['tradePx'] = temp1.apply(absolute, axis=1)"
   ]
  },
  {
   "cell_type": "code",
   "execution_count": 172,
   "metadata": {},
   "outputs": [
    {
     "data": {
      "text/plain": [
       "orderProduct\n",
       "AA    3400.0\n",
       "BB    3700.0\n",
       "CC     -50.0\n",
       "Name: tradePx, dtype: float64"
      ]
     },
     "execution_count": 172,
     "metadata": {},
     "output_type": "execute_result"
    }
   ],
   "source": [
    "temp1[temp1['action'] == 'filled'].groupby('orderProduct').sum()['tradePx']"
   ]
  },
  {
   "cell_type": "markdown",
   "metadata": {},
   "source": [
    "### Cumulative gross PnL"
   ]
  },
  {
   "cell_type": "code",
   "execution_count": 196,
   "metadata": {},
   "outputs": [],
   "source": [
    "import matplotlib.pyplot as plt\n",
    "plt.style.use('dark_background')"
   ]
  },
  {
   "cell_type": "code",
   "execution_count": 197,
   "metadata": {},
   "outputs": [],
   "source": [
    "def absolute(row):\n",
    "    if row['orderSide'] == 'buy':\n",
    "        return row['tradePx'] * -1\n",
    "    return row['tradePx'] "
   ]
  },
  {
   "cell_type": "code",
   "execution_count": 198,
   "metadata": {},
   "outputs": [],
   "source": [
    "df['tradePx'] = df.apply(absolute, axis=1)"
   ]
  },
  {
   "cell_type": "code",
   "execution_count": 201,
   "metadata": {},
   "outputs": [
    {
     "data": {
      "image/png": "[encoded data removed]",
      "text/plain": [
       "<Figure size 720x432 with 1 Axes>"
      ]
     },
     "metadata": {},
     "output_type": "display_data"
    }
   ],
   "source": [
    "#x = np.arange(1, len(df[df['action'] == 'filled']) + 1) - можно проставить диапазон [1;82] по оси X\n",
    "x = df[df['action'] == 'filled']['orderId']\n",
    "y = df[df['action'] == 'filled']['tradePx'].cumsum()\n",
    "\n",
    "plt.figure(figsize=(10, 6))\n",
    "plt.plot(x, y, marker='o', color='orange', linewidth=2)\n",
    "plt.title('Cumulative Trade Price', fontsize=16, color='white') \n",
    "plt.xlabel('Order ID', fontsize=14, color='white') \n",
    "plt.ylabel('Cumulative Trade Price', fontsize=14, color='white') \n",
    "plt.xticks(fontsize=12, color='white')\n",
    "plt.yticks(fontsize=12, color='white') \n",
    "plt.grid(True, linestyle='--', alpha=0.5, color='gray') \n",
    "plt.tight_layout()\n",
    "plt.show()"
   ]
  }
 ],
 "metadata": {
  "kernelspec": {
   "display_name": "Python 3",
   "language": "python",
   "name": "python3"
  },
  "language_info": {
   "codemirror_mode": {
    "name": "ipython",
    "version": 3
   },
   "file_extension": ".py",
   "mimetype": "text/x-python",
   "name": "python",
   "nbconvert_exporter": "python",
   "pygments_lexer": "ipython3",
   "version": "3.7.6"
  }
 },
 "nbformat": 4,
 "nbformat_minor": 4
}
